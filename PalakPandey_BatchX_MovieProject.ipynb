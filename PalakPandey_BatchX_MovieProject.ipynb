{
 "cells": [
  {
   "cell_type": "markdown",
   "id": "44262e08",
   "metadata": {},
   "source": [
    "# Movie Recommendation & Insights System\n",
    "**Author:** PalakPandey | **Batch:** BatchX\n",
    "**Created:** 2025-08-18\n",
    "\n",
    "**Objective:**\n",
    "- Analyze movie data (genres, ratings, runtime, votes, budget, revenue)\n",
    "- Predict whether a movie is likely to be a **Hit** or **Flop** using ML\n",
    "- Provide visual and statistical insights\n",
    "- Demonstrate skills in data cleaning, EDA, visualization, regression, and preprocessing\n",
    "\n",
    "**Dataset:** `movies_synthetic_dataset.csv` (synthetic for demo)\n",
    "You can replace it with Kaggle **IMDB 5000 Movie Dataset** with minor column mapping.\n"
   ]
  },
  {
   "cell_type": "code",
   "execution_count": 6,
   "id": "401b9a10",
   "metadata": {},
   "outputs": [],
   "source": [
    "# If running in a fresh environment, uncomment to install packages\n",
    "# !pip install pandas numpy scikit-learn matplotlib seaborn\n",
    "\n",
    "import numpy as np\n",
    "import pandas as pd\n",
    "import matplotlib.pyplot as plt\n",
    "import seaborn as sns\n",
    "\n",
    "from sklearn.model_selection import train_test_split\n",
    "from sklearn.preprocessing import LabelEncoder, OneHotEncoder, StandardScaler\n",
    "from sklearn.compose import ColumnTransformer\n",
    "from sklearn.pipeline import Pipeline\n",
    "from sklearn.metrics import accuracy_score, precision_score, recall_score, f1_score, roc_auc_score, confusion_matrix, classification_report\n",
    "from sklearn.metrics import mean_absolute_error, mean_squared_error, r2_score\n",
    "from sklearn.linear_model import LogisticRegression, LinearRegression\n",
    "\n",
    "import warnings\n",
    "warnings.filterwarnings('ignore')\n",
    "\n",
    "pd.set_option('display.max_columns', None)\n"
   ]
  },
  {
   "cell_type": "markdown",
   "id": "342bb360",
   "metadata": {},
   "source": [
    "## 1. Data Loading & Cleaning"
   ]
  },
  {
   "cell_type": "code",
   "execution_count": null,
   "id": "3d4cf6b7",
   "metadata": {},
   "outputs": [
    {
     "ename": "FileNotFoundError",
     "evalue": "[Errno 2] No such file or directory: '/mnt/data/movies_synthetic_dataset.csv'",
     "output_type": "error",
     "traceback": [
      "\u001b[31m---------------------------------------------------------------------------\u001b[39m",
      "\u001b[31mFileNotFoundError\u001b[39m                         Traceback (most recent call last)",
      "\u001b[36mCell\u001b[39m\u001b[36m \u001b[39m\u001b[32mIn[4]\u001b[39m\u001b[32m, line 4\u001b[39m\n\u001b[32m      2\u001b[39m \u001b[38;5;28;01mimport\u001b[39;00m\u001b[38;5;250m \u001b[39m\u001b[34;01mos\u001b[39;00m\n\u001b[32m      3\u001b[39m csv_path = \u001b[33m\"\u001b[39m\u001b[33m/mnt/data/movies_synthetic_dataset.csv\u001b[39m\u001b[33m\"\u001b[39m\n\u001b[32m----> \u001b[39m\u001b[32m4\u001b[39m df = \u001b[43mpd\u001b[49m\u001b[43m.\u001b[49m\u001b[43mread_csv\u001b[49m\u001b[43m(\u001b[49m\u001b[43mcsv_path\u001b[49m\u001b[43m)\u001b[49m\n\u001b[32m      6\u001b[39m \u001b[38;5;28mprint\u001b[39m(\u001b[33m\"\u001b[39m\u001b[33mShape:\u001b[39m\u001b[33m\"\u001b[39m, df.shape)\n\u001b[32m      7\u001b[39m df.head()\n",
      "\u001b[36mFile \u001b[39m\u001b[32m~\\anaconda3\\Lib\\site-packages\\pandas\\io\\parsers\\readers.py:1026\u001b[39m, in \u001b[36mread_csv\u001b[39m\u001b[34m(filepath_or_buffer, sep, delimiter, header, names, index_col, usecols, dtype, engine, converters, true_values, false_values, skipinitialspace, skiprows, skipfooter, nrows, na_values, keep_default_na, na_filter, verbose, skip_blank_lines, parse_dates, infer_datetime_format, keep_date_col, date_parser, date_format, dayfirst, cache_dates, iterator, chunksize, compression, thousands, decimal, lineterminator, quotechar, quoting, doublequote, escapechar, comment, encoding, encoding_errors, dialect, on_bad_lines, delim_whitespace, low_memory, memory_map, float_precision, storage_options, dtype_backend)\u001b[39m\n\u001b[32m   1013\u001b[39m kwds_defaults = _refine_defaults_read(\n\u001b[32m   1014\u001b[39m     dialect,\n\u001b[32m   1015\u001b[39m     delimiter,\n\u001b[32m   (...)\u001b[39m\u001b[32m   1022\u001b[39m     dtype_backend=dtype_backend,\n\u001b[32m   1023\u001b[39m )\n\u001b[32m   1024\u001b[39m kwds.update(kwds_defaults)\n\u001b[32m-> \u001b[39m\u001b[32m1026\u001b[39m \u001b[38;5;28;01mreturn\u001b[39;00m \u001b[43m_read\u001b[49m\u001b[43m(\u001b[49m\u001b[43mfilepath_or_buffer\u001b[49m\u001b[43m,\u001b[49m\u001b[43m \u001b[49m\u001b[43mkwds\u001b[49m\u001b[43m)\u001b[49m\n",
      "\u001b[36mFile \u001b[39m\u001b[32m~\\anaconda3\\Lib\\site-packages\\pandas\\io\\parsers\\readers.py:620\u001b[39m, in \u001b[36m_read\u001b[39m\u001b[34m(filepath_or_buffer, kwds)\u001b[39m\n\u001b[32m    617\u001b[39m _validate_names(kwds.get(\u001b[33m\"\u001b[39m\u001b[33mnames\u001b[39m\u001b[33m\"\u001b[39m, \u001b[38;5;28;01mNone\u001b[39;00m))\n\u001b[32m    619\u001b[39m \u001b[38;5;66;03m# Create the parser.\u001b[39;00m\n\u001b[32m--> \u001b[39m\u001b[32m620\u001b[39m parser = \u001b[43mTextFileReader\u001b[49m\u001b[43m(\u001b[49m\u001b[43mfilepath_or_buffer\u001b[49m\u001b[43m,\u001b[49m\u001b[43m \u001b[49m\u001b[43m*\u001b[49m\u001b[43m*\u001b[49m\u001b[43mkwds\u001b[49m\u001b[43m)\u001b[49m\n\u001b[32m    622\u001b[39m \u001b[38;5;28;01mif\u001b[39;00m chunksize \u001b[38;5;129;01mor\u001b[39;00m iterator:\n\u001b[32m    623\u001b[39m     \u001b[38;5;28;01mreturn\u001b[39;00m parser\n",
      "\u001b[36mFile \u001b[39m\u001b[32m~\\anaconda3\\Lib\\site-packages\\pandas\\io\\parsers\\readers.py:1620\u001b[39m, in \u001b[36mTextFileReader.__init__\u001b[39m\u001b[34m(self, f, engine, **kwds)\u001b[39m\n\u001b[32m   1617\u001b[39m     \u001b[38;5;28mself\u001b[39m.options[\u001b[33m\"\u001b[39m\u001b[33mhas_index_names\u001b[39m\u001b[33m\"\u001b[39m] = kwds[\u001b[33m\"\u001b[39m\u001b[33mhas_index_names\u001b[39m\u001b[33m\"\u001b[39m]\n\u001b[32m   1619\u001b[39m \u001b[38;5;28mself\u001b[39m.handles: IOHandles | \u001b[38;5;28;01mNone\u001b[39;00m = \u001b[38;5;28;01mNone\u001b[39;00m\n\u001b[32m-> \u001b[39m\u001b[32m1620\u001b[39m \u001b[38;5;28mself\u001b[39m._engine = \u001b[38;5;28;43mself\u001b[39;49m\u001b[43m.\u001b[49m\u001b[43m_make_engine\u001b[49m\u001b[43m(\u001b[49m\u001b[43mf\u001b[49m\u001b[43m,\u001b[49m\u001b[43m \u001b[49m\u001b[38;5;28;43mself\u001b[39;49m\u001b[43m.\u001b[49m\u001b[43mengine\u001b[49m\u001b[43m)\u001b[49m\n",
      "\u001b[36mFile \u001b[39m\u001b[32m~\\anaconda3\\Lib\\site-packages\\pandas\\io\\parsers\\readers.py:1880\u001b[39m, in \u001b[36mTextFileReader._make_engine\u001b[39m\u001b[34m(self, f, engine)\u001b[39m\n\u001b[32m   1878\u001b[39m     \u001b[38;5;28;01mif\u001b[39;00m \u001b[33m\"\u001b[39m\u001b[33mb\u001b[39m\u001b[33m\"\u001b[39m \u001b[38;5;129;01mnot\u001b[39;00m \u001b[38;5;129;01min\u001b[39;00m mode:\n\u001b[32m   1879\u001b[39m         mode += \u001b[33m\"\u001b[39m\u001b[33mb\u001b[39m\u001b[33m\"\u001b[39m\n\u001b[32m-> \u001b[39m\u001b[32m1880\u001b[39m \u001b[38;5;28mself\u001b[39m.handles = \u001b[43mget_handle\u001b[49m\u001b[43m(\u001b[49m\n\u001b[32m   1881\u001b[39m \u001b[43m    \u001b[49m\u001b[43mf\u001b[49m\u001b[43m,\u001b[49m\n\u001b[32m   1882\u001b[39m \u001b[43m    \u001b[49m\u001b[43mmode\u001b[49m\u001b[43m,\u001b[49m\n\u001b[32m   1883\u001b[39m \u001b[43m    \u001b[49m\u001b[43mencoding\u001b[49m\u001b[43m=\u001b[49m\u001b[38;5;28;43mself\u001b[39;49m\u001b[43m.\u001b[49m\u001b[43moptions\u001b[49m\u001b[43m.\u001b[49m\u001b[43mget\u001b[49m\u001b[43m(\u001b[49m\u001b[33;43m\"\u001b[39;49m\u001b[33;43mencoding\u001b[39;49m\u001b[33;43m\"\u001b[39;49m\u001b[43m,\u001b[49m\u001b[43m \u001b[49m\u001b[38;5;28;43;01mNone\u001b[39;49;00m\u001b[43m)\u001b[49m\u001b[43m,\u001b[49m\n\u001b[32m   1884\u001b[39m \u001b[43m    \u001b[49m\u001b[43mcompression\u001b[49m\u001b[43m=\u001b[49m\u001b[38;5;28;43mself\u001b[39;49m\u001b[43m.\u001b[49m\u001b[43moptions\u001b[49m\u001b[43m.\u001b[49m\u001b[43mget\u001b[49m\u001b[43m(\u001b[49m\u001b[33;43m\"\u001b[39;49m\u001b[33;43mcompression\u001b[39;49m\u001b[33;43m\"\u001b[39;49m\u001b[43m,\u001b[49m\u001b[43m \u001b[49m\u001b[38;5;28;43;01mNone\u001b[39;49;00m\u001b[43m)\u001b[49m\u001b[43m,\u001b[49m\n\u001b[32m   1885\u001b[39m \u001b[43m    \u001b[49m\u001b[43mmemory_map\u001b[49m\u001b[43m=\u001b[49m\u001b[38;5;28;43mself\u001b[39;49m\u001b[43m.\u001b[49m\u001b[43moptions\u001b[49m\u001b[43m.\u001b[49m\u001b[43mget\u001b[49m\u001b[43m(\u001b[49m\u001b[33;43m\"\u001b[39;49m\u001b[33;43mmemory_map\u001b[39;49m\u001b[33;43m\"\u001b[39;49m\u001b[43m,\u001b[49m\u001b[43m \u001b[49m\u001b[38;5;28;43;01mFalse\u001b[39;49;00m\u001b[43m)\u001b[49m\u001b[43m,\u001b[49m\n\u001b[32m   1886\u001b[39m \u001b[43m    \u001b[49m\u001b[43mis_text\u001b[49m\u001b[43m=\u001b[49m\u001b[43mis_text\u001b[49m\u001b[43m,\u001b[49m\n\u001b[32m   1887\u001b[39m \u001b[43m    \u001b[49m\u001b[43merrors\u001b[49m\u001b[43m=\u001b[49m\u001b[38;5;28;43mself\u001b[39;49m\u001b[43m.\u001b[49m\u001b[43moptions\u001b[49m\u001b[43m.\u001b[49m\u001b[43mget\u001b[49m\u001b[43m(\u001b[49m\u001b[33;43m\"\u001b[39;49m\u001b[33;43mencoding_errors\u001b[39;49m\u001b[33;43m\"\u001b[39;49m\u001b[43m,\u001b[49m\u001b[43m \u001b[49m\u001b[33;43m\"\u001b[39;49m\u001b[33;43mstrict\u001b[39;49m\u001b[33;43m\"\u001b[39;49m\u001b[43m)\u001b[49m\u001b[43m,\u001b[49m\n\u001b[32m   1888\u001b[39m \u001b[43m    \u001b[49m\u001b[43mstorage_options\u001b[49m\u001b[43m=\u001b[49m\u001b[38;5;28;43mself\u001b[39;49m\u001b[43m.\u001b[49m\u001b[43moptions\u001b[49m\u001b[43m.\u001b[49m\u001b[43mget\u001b[49m\u001b[43m(\u001b[49m\u001b[33;43m\"\u001b[39;49m\u001b[33;43mstorage_options\u001b[39;49m\u001b[33;43m\"\u001b[39;49m\u001b[43m,\u001b[49m\u001b[43m \u001b[49m\u001b[38;5;28;43;01mNone\u001b[39;49;00m\u001b[43m)\u001b[49m\u001b[43m,\u001b[49m\n\u001b[32m   1889\u001b[39m \u001b[43m\u001b[49m\u001b[43m)\u001b[49m\n\u001b[32m   1890\u001b[39m \u001b[38;5;28;01massert\u001b[39;00m \u001b[38;5;28mself\u001b[39m.handles \u001b[38;5;129;01mis\u001b[39;00m \u001b[38;5;129;01mnot\u001b[39;00m \u001b[38;5;28;01mNone\u001b[39;00m\n\u001b[32m   1891\u001b[39m f = \u001b[38;5;28mself\u001b[39m.handles.handle\n",
      "\u001b[36mFile \u001b[39m\u001b[32m~\\anaconda3\\Lib\\site-packages\\pandas\\io\\common.py:873\u001b[39m, in \u001b[36mget_handle\u001b[39m\u001b[34m(path_or_buf, mode, encoding, compression, memory_map, is_text, errors, storage_options)\u001b[39m\n\u001b[32m    868\u001b[39m \u001b[38;5;28;01melif\u001b[39;00m \u001b[38;5;28misinstance\u001b[39m(handle, \u001b[38;5;28mstr\u001b[39m):\n\u001b[32m    869\u001b[39m     \u001b[38;5;66;03m# Check whether the filename is to be opened in binary mode.\u001b[39;00m\n\u001b[32m    870\u001b[39m     \u001b[38;5;66;03m# Binary mode does not support 'encoding' and 'newline'.\u001b[39;00m\n\u001b[32m    871\u001b[39m     \u001b[38;5;28;01mif\u001b[39;00m ioargs.encoding \u001b[38;5;129;01mand\u001b[39;00m \u001b[33m\"\u001b[39m\u001b[33mb\u001b[39m\u001b[33m\"\u001b[39m \u001b[38;5;129;01mnot\u001b[39;00m \u001b[38;5;129;01min\u001b[39;00m ioargs.mode:\n\u001b[32m    872\u001b[39m         \u001b[38;5;66;03m# Encoding\u001b[39;00m\n\u001b[32m--> \u001b[39m\u001b[32m873\u001b[39m         handle = \u001b[38;5;28;43mopen\u001b[39;49m\u001b[43m(\u001b[49m\n\u001b[32m    874\u001b[39m \u001b[43m            \u001b[49m\u001b[43mhandle\u001b[49m\u001b[43m,\u001b[49m\n\u001b[32m    875\u001b[39m \u001b[43m            \u001b[49m\u001b[43mioargs\u001b[49m\u001b[43m.\u001b[49m\u001b[43mmode\u001b[49m\u001b[43m,\u001b[49m\n\u001b[32m    876\u001b[39m \u001b[43m            \u001b[49m\u001b[43mencoding\u001b[49m\u001b[43m=\u001b[49m\u001b[43mioargs\u001b[49m\u001b[43m.\u001b[49m\u001b[43mencoding\u001b[49m\u001b[43m,\u001b[49m\n\u001b[32m    877\u001b[39m \u001b[43m            \u001b[49m\u001b[43merrors\u001b[49m\u001b[43m=\u001b[49m\u001b[43merrors\u001b[49m\u001b[43m,\u001b[49m\n\u001b[32m    878\u001b[39m \u001b[43m            \u001b[49m\u001b[43mnewline\u001b[49m\u001b[43m=\u001b[49m\u001b[33;43m\"\u001b[39;49m\u001b[33;43m\"\u001b[39;49m\u001b[43m,\u001b[49m\n\u001b[32m    879\u001b[39m \u001b[43m        \u001b[49m\u001b[43m)\u001b[49m\n\u001b[32m    880\u001b[39m     \u001b[38;5;28;01melse\u001b[39;00m:\n\u001b[32m    881\u001b[39m         \u001b[38;5;66;03m# Binary mode\u001b[39;00m\n\u001b[32m    882\u001b[39m         handle = \u001b[38;5;28mopen\u001b[39m(handle, ioargs.mode)\n",
      "\u001b[31mFileNotFoundError\u001b[39m: [Errno 2] No such file or directory: '/mnt/data/movies_synthetic_dataset.csv'"
     ]
    }
   ],
   "source": [
    "# Load dataset\n",
    "import os\n",
    "csv_path = \"/mnt/data/movies_synthetic_dataset.csv\"\n",
    "df = pd.read_csv(csv_path)\n",
    "\n",
    "print(\"Shape:\", df.shape)\n",
    "df.head()\n"
   ]
  },
  {
   "cell_type": "code",
   "execution_count": null,
   "id": "39dd90f9",
   "metadata": {},
   "outputs": [],
   "source": [
    "# Investigate missing values\n",
    "df.isna().sum()\n"
   ]
  },
  {
   "cell_type": "code",
   "execution_count": null,
   "id": "33d8add4",
   "metadata": {},
   "outputs": [],
   "source": [
    "# Basic cleaning\n",
    "# Strategy:\n",
    "# - For numeric columns: fill NaNs with median\n",
    "# - For categorical columns: fill NaNs with mode\n",
    "numeric_cols = df.select_dtypes(include=[np.number]).columns.tolist()\n",
    "categorical_cols = df.select_dtypes(exclude=[np.number]).columns.tolist()\n",
    "\n",
    "for col in numeric_cols:\n",
    "    df[col] = df[col].fillna(df[col].median())\n",
    "\n",
    "for col in categorical_cols:\n",
    "    df[col] = df[col].fillna(df[col].mode()[0])\n",
    "\n",
    "df.isna().sum()\n"
   ]
  },
  {
   "cell_type": "markdown",
   "id": "a137b858",
   "metadata": {},
   "source": [
    "## 2. Feature Engineering"
   ]
  },
  {
   "cell_type": "code",
   "execution_count": null,
   "id": "ac966554",
   "metadata": {},
   "outputs": [],
   "source": [
    "# Encode target: Hit -> 1, Flop -> 0\n",
    "df['HitFlag'] = (df['Hit'].str.lower() == 'yes').astype(int)\n",
    "\n",
    "# Label encode Genre for quick models; also build One-Hot later in pipelines\n",
    "le = LabelEncoder()\n",
    "df['Genre_encoded'] = le.fit_transform(df['Genre'])\n",
    "\n",
    "# Normalize numeric features (we'll do this in pipeline for models, shown here just for illustration)\n",
    "from sklearn.preprocessing import MinMaxScaler\n",
    "scaler_demo = MinMaxScaler()\n",
    "df_scaled_demo = df.copy()\n",
    "df_scaled_demo[['Runtime','Budget_M','Votes','Rating','Revenue_M']] = scaler_demo.fit_transform(df_scaled_demo[['Runtime','Budget_M','Votes','Rating','Revenue_M']])\n",
    "df_scaled_demo.head()\n"
   ]
  },
  {
   "cell_type": "markdown",
   "id": "74bb2321",
   "metadata": {},
   "source": [
    "## 3. Exploratory Data Analysis (EDA)"
   ]
  },
  {
   "cell_type": "code",
   "execution_count": null,
   "id": "f3394fd5",
   "metadata": {},
   "outputs": [],
   "source": [
    "# Genre distribution\n",
    "genre_counts = df['Genre'].value_counts().sort_values(ascending=False)\n",
    "genre_counts\n"
   ]
  },
  {
   "cell_type": "code",
   "execution_count": null,
   "id": "abb76f07",
   "metadata": {},
   "outputs": [],
   "source": [
    "# Plot 1: Bar chart - Top Genres\n",
    "plt.figure()\n",
    "genre_counts.plot(kind='bar')\n",
    "plt.title('Top Genres')\n",
    "plt.xlabel('Genre')\n",
    "plt.ylabel('Count')\n",
    "plt.show()\n"
   ]
  },
  {
   "cell_type": "code",
   "execution_count": null,
   "id": "2196f70d",
   "metadata": {},
   "outputs": [],
   "source": [
    "# Rating trends (histogram)\n",
    "plt.figure()\n",
    "plt.hist(df['Rating'], bins=20)\n",
    "plt.title('Rating Distribution')\n",
    "plt.xlabel('Rating')\n",
    "plt.ylabel('Frequency')\n",
    "plt.show()\n"
   ]
  },
  {
   "cell_type": "code",
   "execution_count": null,
   "id": "2feb3273",
   "metadata": {},
   "outputs": [],
   "source": [
    "# Budget vs Revenue scatter with hit coloring\n",
    "plt.figure()\n",
    "colors = df['HitFlag'].map({1:'tab:green', 0:'tab:red'})\n",
    "plt.scatter(df['Budget_M'], df['Revenue_M'], c=colors, alpha=0.6)\n",
    "plt.title('Budget vs Revenue (colored by Hit)')\n",
    "plt.xlabel('Budget (Millions)')\n",
    "plt.ylabel('Revenue (Millions)')\n",
    "plt.show()\n"
   ]
  },
  {
   "cell_type": "code",
   "execution_count": null,
   "id": "6f31b0b3",
   "metadata": {},
   "outputs": [],
   "source": [
    "# Boxplot: Budget vs Hit\n",
    "plt.figure()\n",
    "df.boxplot(column='Budget_M', by='Hit')\n",
    "plt.title('Budget by Hit/Flop')\n",
    "plt.suptitle('')\n",
    "plt.xlabel('Hit')\n",
    "plt.ylabel('Budget (Millions)')\n",
    "plt.show()\n"
   ]
  },
  {
   "cell_type": "code",
   "execution_count": null,
   "id": "16f2e48a",
   "metadata": {},
   "outputs": [],
   "source": [
    "# Heatmap: Correlation matrix\n",
    "plt.figure()\n",
    "corr = df[['Runtime','Budget_M','Votes','Rating','Revenue_M','HitFlag','Genre_encoded']].corr()\n",
    "import seaborn as sns\n",
    "sns.heatmap(corr, annot=True, fmt='.2f')\n",
    "plt.title('Correlation Matrix')\n",
    "plt.show()\n"
   ]
  },
  {
   "cell_type": "markdown",
   "id": "907057c4",
   "metadata": {},
   "source": [
    "## 4. Statistical Summary"
   ]
  },
  {
   "cell_type": "code",
   "execution_count": null,
   "id": "0fd18e6e",
   "metadata": {},
   "outputs": [],
   "source": [
    "summary_stats = df[['Runtime','Budget_M','Votes','Rating','Revenue_M']].agg(['mean','median','std']).T\n",
    "corr_matrix = df[['Runtime','Budget_M','Votes','Rating','Revenue_M','HitFlag','Genre_encoded']].corr()\n",
    "print(\"Summary Statistics:\")\n",
    "display(summary_stats)\n",
    "print(\"\\nCorrelation Matrix:\")\n",
    "display(corr_matrix)\n"
   ]
  },
  {
   "cell_type": "markdown",
   "id": "085a3841",
   "metadata": {},
   "source": [
    "## 5. Model 1: Logistic Regression – Predict Hit/Flop"
   ]
  },
  {
   "cell_type": "code",
   "execution_count": null,
   "id": "ff436166",
   "metadata": {},
   "outputs": [],
   "source": [
    "# Features and target\n",
    "X = df[['Genre','Runtime','Budget_M','Votes','Rating','Revenue_M']]\n",
    "y = df['HitFlag']\n",
    "\n",
    "# Define preprocessing for columns\n",
    "numeric_features = ['Runtime','Budget_M','Votes','Rating','Revenue_M']\n",
    "categorical_features = ['Genre']\n",
    "\n",
    "numeric_transformer = Pipeline(steps=[\n",
    "    ('scaler', StandardScaler())\n",
    "])\n",
    "\n",
    "categorical_transformer = OneHotEncoder(handle_unknown='ignore')\n",
    "\n",
    "preprocess = ColumnTransformer(\n",
    "    transformers=[\n",
    "        ('num', numeric_transformer, numeric_features),\n",
    "        ('cat', categorical_transformer, categorical_features)\n",
    "    ])\n",
    "\n",
    "# Model pipeline\n",
    "log_reg = Pipeline(steps=[\n",
    "    ('preprocess', preprocess),\n",
    "    ('model', LogisticRegression(max_iter=1000))\n",
    "])\n",
    "\n",
    "X_train, X_test, y_train, y_test = train_test_split(X, y, test_size=0.2, random_state=42, stratify=y)\n",
    "\n",
    "log_reg.fit(X_train, y_train)\n",
    "y_pred = log_reg.predict(X_test)\n",
    "y_prob = log_reg.predict_proba(X_test)[:,1]\n",
    "\n",
    "# Evaluation\n",
    "acc = accuracy_score(y_test, y_pred)\n",
    "prec = precision_score(y_test, y_pred)\n",
    "rec = recall_score(y_test, y_pred)\n",
    "f1 = f1_score(y_test, y_pred)\n",
    "auc = roc_auc_score(y_test, y_prob)\n",
    "cm = confusion_matrix(y_test, y_pred)\n",
    "\n",
    "print(f\"Accuracy: {acc:.3f}\")\n",
    "print(f\"Precision: {prec:.3f}\")\n",
    "print(f\"Recall: {rec:.3f}\")\n",
    "print(f\"F1-score: {f1:.3f}\")\n",
    "print(f\"ROC-AUC: {auc:.3f}\")\n",
    "print(\"\\nClassification Report:\\n\", classification_report(y_test, y_pred))\n",
    "\n",
    "# Confusion matrix plot\n",
    "plt.figure()\n",
    "sns.heatmap(cm, annot=True, fmt='d', cbar=False)\n",
    "plt.title('Confusion Matrix - Logistic Regression')\n",
    "plt.xlabel('Predicted')\n",
    "plt.ylabel('Actual')\n",
    "plt.show()\n"
   ]
  },
  {
   "cell_type": "markdown",
   "id": "966638d9",
   "metadata": {},
   "source": [
    "## 6. Model 2: Linear Regression – Predict Rating"
   ]
  },
  {
   "cell_type": "code",
   "execution_count": 5,
   "id": "60005513",
   "metadata": {},
   "outputs": [
    {
     "ename": "NameError",
     "evalue": "name 'df' is not defined",
     "output_type": "error",
     "traceback": [
      "\u001b[31m---------------------------------------------------------------------------\u001b[39m",
      "\u001b[31mNameError\u001b[39m                                 Traceback (most recent call last)",
      "\u001b[36mCell\u001b[39m\u001b[36m \u001b[39m\u001b[32mIn[5]\u001b[39m\u001b[32m, line 2\u001b[39m\n\u001b[32m      1\u001b[39m \u001b[38;5;66;03m# Predict Rating from other features\u001b[39;00m\n\u001b[32m----> \u001b[39m\u001b[32m2\u001b[39m X2 = \u001b[43mdf\u001b[49m[[\u001b[33m'\u001b[39m\u001b[33mGenre\u001b[39m\u001b[33m'\u001b[39m,\u001b[33m'\u001b[39m\u001b[33mRuntime\u001b[39m\u001b[33m'\u001b[39m,\u001b[33m'\u001b[39m\u001b[33mBudget_M\u001b[39m\u001b[33m'\u001b[39m,\u001b[33m'\u001b[39m\u001b[33mVotes\u001b[39m\u001b[33m'\u001b[39m,\u001b[33m'\u001b[39m\u001b[33mRevenue_M\u001b[39m\u001b[33m'\u001b[39m]]\n\u001b[32m      3\u001b[39m y2 = df[\u001b[33m'\u001b[39m\u001b[33mRating\u001b[39m\u001b[33m'\u001b[39m]\n\u001b[32m      5\u001b[39m numeric_features2 = [\u001b[33m'\u001b[39m\u001b[33mRuntime\u001b[39m\u001b[33m'\u001b[39m,\u001b[33m'\u001b[39m\u001b[33mBudget_M\u001b[39m\u001b[33m'\u001b[39m,\u001b[33m'\u001b[39m\u001b[33mVotes\u001b[39m\u001b[33m'\u001b[39m,\u001b[33m'\u001b[39m\u001b[33mRevenue_M\u001b[39m\u001b[33m'\u001b[39m]\n",
      "\u001b[31mNameError\u001b[39m: name 'df' is not defined"
     ]
    }
   ],
   "source": [
    "# Predict Rating from other features\n",
    "X2 = df[['Genre','Runtime','Budget_M','Votes','Revenue_M']]\n",
    "y2 = df['Rating']\n",
    "\n",
    "numeric_features2 = ['Runtime','Budget_M','Votes','Revenue_M']\n",
    "categorical_features2 = ['Genre']\n",
    "\n",
    "preprocess2 = ColumnTransformer(\n",
    "    transformers=[\n",
    "        ('num', StandardScaler(), numeric_features2),\n",
    "        ('cat', OneHotEncoder(handle_unknown='ignore'), categorical_features2)\n",
    "    ])\n",
    "\n",
    "lin_reg = Pipeline(steps=[\n",
    "    ('preprocess', preprocess2),\n",
    "    ('model', LinearRegression())\n",
    "])\n",
    "\n",
    "X2_train, X2_test, y2_train, y2_test = train_test_split(X2, y2, test_size=0.2, random_state=42)\n",
    "\n",
    "lin_reg.fit(X2_train, y2_train)\n",
    "y2_pred = lin_reg.predict(X2_test)\n",
    "\n",
    "mae = mean_absolute_error(y2_test, y2_pred)\n",
    "rmse = mean_squared_error(y2_test, y2_pred, squared=False)\n",
    "r2 = r2_score(y2_test, y2_pred)\n",
    "\n",
    "print(f\"MAE: {mae:.3f}\")\n",
    "print(f\"RMSE: {rmse:.3f}\")\n",
    "print(f\"R^2: {r2:.3f}\")\n",
    "\n",
    "# Plot Prediction vs Actual\n",
    "plt.figure()\n",
    "plt.scatter(y2_test, y2_pred, alpha=0.6)\n",
    "plt.title('Linear Regression: Actual vs Predicted Rating')\n",
    "plt.xlabel('Actual Rating')\n",
    "plt.ylabel('Predicted Rating')\n",
    "plt.plot([y2_test.min(), y2_test.max()], [y2_test.min(), y2_test.max()], 'k--')\n",
    "plt.show()\n"
   ]
  },
  {
   "cell_type": "markdown",
   "id": "dbd61efc",
   "metadata": {},
   "source": [
    "## 7. Additional Visualizations"
   ]
  },
  {
   "cell_type": "code",
   "execution_count": null,
   "id": "98709e68",
   "metadata": {},
   "outputs": [],
   "source": [
    "# Histogram of Runtime\n",
    "plt.figure()\n",
    "plt.hist(df['Runtime'], bins=20)\n",
    "plt.title('Runtime Distribution')\n",
    "plt.xlabel('Runtime (minutes)')\n",
    "plt.ylabel('Frequency')\n",
    "plt.show()\n"
   ]
  },
  {
   "cell_type": "markdown",
   "id": "538dc433",
   "metadata": {},
   "source": [
    "## 8. Code Quality & Structure – Utility Functions"
   ]
  },
  {
   "cell_type": "code",
   "execution_count": null,
   "id": "c0e192ee",
   "metadata": {},
   "outputs": [],
   "source": [
    "def summarize_dataframe(dataframe):\n",
    "    return {\n",
    "        \"rows\": dataframe.shape[0],\n",
    "        \"cols\": dataframe.shape[1],\n",
    "        \"columns\": list(dataframe.columns),\n",
    "        \"missing_values\": dataframe.isna().sum().to_dict()\n",
    "    }\n",
    "\n",
    "summary_info = summarize_dataframe(df)\n",
    "summary_info\n"
   ]
  },
  {
   "cell_type": "markdown",
   "id": "46f051ae",
   "metadata": {},
   "source": [
    "## 9. Summary & Insights"
   ]
  },
  {
   "cell_type": "markdown",
   "id": "f1470de4",
   "metadata": {},
   "source": [
    "**Key Takeaways:**\n",
    "- Genres with the highest counts in this dataset appear in the bar chart.\n",
    "- Ratings tend to cluster around the 6–8 range; higher ratings correlate positively with Hit.\n",
    "- Budget and Revenue are positively correlated; Hit movies typically have revenues exceeding budgets.\n",
    "- Logistic Regression provides a baseline classifier for Hit/Flop prediction (see metrics).\n",
    "- Linear Regression offers a baseline for predicting **Rating** from other features.\n",
    "- You can redefine **Hit** (e.g., `Revenue_M > Budget_M` or `Rating > 7.5`) and re-run the notebook to compare.\n",
    "\n",
    "**Next Steps (Optional):**\n",
    "- Try alternative models (e.g., RandomForest, XGBoost) and compare.\n",
    "- Add cross-validation and hyperparameter tuning.\n",
    "- Swap in the Kaggle IMDB dataset and map its columns to this schema.\n",
    "- Create a PDF slide/report with the best insights and model results.\n"
   ]
  },
  {
   "cell_type": "code",
   "execution_count": null,
   "id": "a934fd12-b482-4492-8e19-ebde43d364be",
   "metadata": {},
   "outputs": [],
   "source": []
  },
  {
   "cell_type": "code",
   "execution_count": null,
   "id": "d1ac50ff-0a9a-4178-a357-5c1250cf2c01",
   "metadata": {},
   "outputs": [],
   "source": []
  },
  {
   "cell_type": "code",
   "execution_count": null,
   "id": "a43d3c2b-8de5-46d4-865f-d58329212251",
   "metadata": {},
   "outputs": [],
   "source": []
  }
 ],
 "metadata": {
  "kernelspec": {
   "display_name": "Python 3 (ipykernel)",
   "language": "python",
   "name": "python3"
  },
  "language_info": {
   "codemirror_mode": {
    "name": "ipython",
    "version": 3
   },
   "file_extension": ".py",
   "mimetype": "text/x-python",
   "name": "python",
   "nbconvert_exporter": "python",
   "pygments_lexer": "ipython3",
   "version": "3.13.5"
  }
 },
 "nbformat": 4,
 "nbformat_minor": 5
}
